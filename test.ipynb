{
 "cells": [
  {
   "cell_type": "code",
   "execution_count": 2,
   "metadata": {},
   "outputs": [],
   "source": [
    "import torch"
   ]
  },
  {
   "cell_type": "code",
   "execution_count": 3,
   "metadata": {},
   "outputs": [
    {
     "name": "stdout",
     "output_type": "stream",
     "text": [
      "(tensor([[0, 1, 2],\n",
      "        [3, 4, 5]]), tensor([[ 6,  7,  8],\n",
      "        [ 9, 10, 11]]), tensor([[12, 13, 14]]))\n"
     ]
    }
   ],
   "source": [
    "a = torch.arange(15).reshape(5,3)\n",
    "print(a.split(2))"
   ]
  },
  {
   "cell_type": "code",
   "execution_count": 5,
   "metadata": {},
   "outputs": [
    {
     "name": "stdout",
     "output_type": "stream",
     "text": [
      "(tensor([[ 0,  1],\n",
      "        [ 3,  4],\n",
      "        [ 6,  7],\n",
      "        [ 9, 10],\n",
      "        [12, 13]]), tensor([[ 2],\n",
      "        [ 5],\n",
      "        [ 8],\n",
      "        [11],\n",
      "        [14]]))\n"
     ]
    }
   ],
   "source": [
    "print(a.chunk(2, dim=-1))"
   ]
  },
  {
   "cell_type": "code",
   "execution_count": null,
   "metadata": {},
   "outputs": [],
   "source": []
  }
 ],
 "metadata": {
  "kernelspec": {
   "display_name": "ml",
   "language": "python",
   "name": "python3"
  },
  "language_info": {
   "codemirror_mode": {
    "name": "ipython",
    "version": 3
   },
   "file_extension": ".py",
   "mimetype": "text/x-python",
   "name": "python",
   "nbconvert_exporter": "python",
   "pygments_lexer": "ipython3",
   "version": "3.8.16"
  },
  "orig_nbformat": 4,
  "vscode": {
   "interpreter": {
    "hash": "0ada61a539895a4ce87bb30c0c84848968170b649bdc7e93d149781a31f5436e"
   }
  }
 },
 "nbformat": 4,
 "nbformat_minor": 2
}
